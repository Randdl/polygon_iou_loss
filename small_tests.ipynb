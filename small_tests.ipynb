{
 "cells": [
  {
   "cell_type": "code",
   "execution_count": 1,
   "outputs": [],
   "source": [
    "import torch\n",
    "import cv2\n",
    "from fixed_polygon_iou_loss import *\n",
    "from matplotlib import pyplot as plt\n",
    "import numpy as np"
   ],
   "metadata": {
    "collapsed": false,
    "pycharm": {
     "name": "#%%\n"
    }
   }
  },
  {
   "cell_type": "code",
   "execution_count": 2,
   "outputs": [
    {
     "name": "stdout",
     "output_type": "stream",
     "text": [
      "tensor([15602.8906, 15602.8906])\n",
      "tensor([15602.8906, 15602.8906])\n",
      "tensor([[[   5815.7617,   17491.7402,  -20569.1035,   -2738.3989],\n",
      "         [-113813.7578,   97983.1250,    3878.8857,   11951.7480],\n",
      "         [  84716.7188, -100240.5625,   21837.6328,   -6313.7900],\n",
      "         [  23281.2793,  -15234.3008,   -5147.4189,   -2899.5598]],\n",
      "\n",
      "        [[   5815.7617,   17491.7402,  -20569.1035,   -2738.3989],\n",
      "         [-113813.7578,   97983.1250,    3878.8857,   11951.7480],\n",
      "         [  84716.7188, -100240.5625,   21837.6328,   -6313.7900],\n",
      "         [  23281.2793,  -15234.3008,   -5147.4189,   -2899.5598]]])\n",
      "tensor([0.8873, 0.8873], dtype=torch.float64)\n",
      "tensor(0.8116)\n"
     ]
    }
   ],
   "source": [
    "polygon = torch.tensor([[[124.35, 46.53], [253.35, 21.31], [333.31, 214.3], [134.31, 11.3]], [[124.35, 46.53], [253.35, 21.31], [333.31, 214.3], [134.31, 11.3]]], dtype=torch.float)\n",
    "polygon = batch_clockify(polygon)\n",
    "polygon2 = torch.tensor([[[124.35, 46.53], [253.35, 21.31], [333.31, 214.3], [134.31, 11.3], [134.31, 11.3], [134.31, 11.3]], [[124.35, 46.53], [253.35, 21.31], [333.31, 214.3], [134.31, 11.3], [134.31, 11.3], [134.31, 11.3]]], dtype=torch.float)\n",
    "polygon3 = torch.tensor([[[108.35, 53.53], [203.35, 234.31], [34.31, 24.3], [666.31, 126.3]], [[108.35, 53.53], [203.35, 234.31], [34.31, 24.3], [666.31, 126.3]]], dtype=torch.float)\n",
    "polygon2 = batch_clockify(polygon2)\n",
    "print(batch_poly_area(polygon))\n",
    "print(batch_poly_area(polygon2))\n",
    "print(batch_poly_diou_loss(polygon, polygon3))\n",
    "print(c_poly_diou_loss(polygon[0], polygon3[0]))"
   ],
   "metadata": {
    "collapsed": false,
    "pycharm": {
     "name": "#%%\n"
    }
   }
  },
  {
   "cell_type": "code",
   "execution_count": 3,
   "outputs": [
    {
     "data": {
      "text/plain": "<Figure size 432x288 with 1 Axes>",
      "image/png": "[encoded data removed]"
     },
     "metadata": {
      "needs_background": "light"
     },
     "output_type": "display_data"
    },
    {
     "name": "stdout",
     "output_type": "stream",
     "text": [
      "tensor([[[-203.8083,  145.6032,  168.1802, -109.9751],\n",
      "         [ 114.5951, -152.4355,  -44.5683,   82.4088],\n",
      "         [   8.0357,   28.4270,  -30.8374,   -5.6252],\n",
      "         [  81.1776,  -21.5946,  -92.7745,   33.1915]],\n",
      "\n",
      "        [[-938.0588, 1232.6897,  -33.1707, -261.4601],\n",
      "         [ 131.7974, -301.8521,   73.7881,   96.2666],\n",
      "         [ 397.8858, -784.5773,  154.6906,  232.0008],\n",
      "         [ 408.3756, -146.2603, -195.3081,  -66.8073]]])\n",
      "tensor([1.0045, 1.2491], dtype=torch.float64)\n",
      "tensor(0.8920)\n"
     ]
    }
   ],
   "source": [
    "polygon1 = torch.normal(0, 10, (2, 4, 2))\n",
    "polygon2 = torch.normal(0, 10, (2, 4, 2))\n",
    "plt.scatter(polygon1[0, :, 0], polygon1[0, :, 1], color='b')\n",
    "plt.scatter(polygon2[0, :, 0], polygon2[0, :, 1], color='r')\n",
    "plt.show()\n",
    "print(batch_poly_diou_loss(polygon1, polygon2))\n",
    "print(c_poly_diou_loss(polygon1[0], polygon2[0]))\n"
   ],
   "metadata": {
    "collapsed": false,
    "pycharm": {
     "name": "#%%\n"
    }
   }
  },
  {
   "cell_type": "code",
   "execution_count": 5,
   "outputs": [],
   "source": [],
   "metadata": {
    "collapsed": false,
    "pycharm": {
     "name": "#%%\n"
    }
   }
  },
  {
   "cell_type": "code",
   "execution_count": 4,
   "outputs": [
    {
     "name": "stdout",
     "output_type": "stream",
     "text": [
      "tensor([[[-2.6366e+01,  7.0332e+02, -5.1553e-01, -6.7644e+02],\n",
      "         [-2.5194e+02,  0.0000e+00,  4.0098e+02, -1.4904e+02],\n",
      "         [ 2.6366e+01, -7.0332e+02,  5.1553e-01,  6.7644e+02],\n",
      "         [ 2.5194e+02,  0.0000e+00, -4.0098e+02,  1.4904e+02]],\n",
      "\n",
      "        [[-3.6344e+02,  4.9185e+03, -8.6878e+00, -4.5464e+03],\n",
      "         [-3.5631e+03,  0.0000e+00,  2.6874e+03,  8.7572e+02],\n",
      "         [ 3.6344e+02, -4.9185e+03,  8.6878e+00,  4.5464e+03],\n",
      "         [ 3.5631e+03,  0.0000e+00, -2.6874e+03, -8.7572e+02]]])\n"
     ]
    },
    {
     "data": {
      "text/plain": "tensor(nan)"
     },
     "execution_count": 4,
     "metadata": {},
     "output_type": "execute_result"
    }
   ],
   "source": [
    "import torch\n",
    "import cv2\n",
    "from fixed_polygon_iou_loss import *\n",
    "from matplotlib import pyplot as plt\n",
    "import numpy as np\n",
    "\n",
    "polygon1 = torch.tensor([[[ 17.0700, -10.5750],\n",
    "         [ 17.0700,  10.5750],\n",
    "         [-17.0700,  10.5750],\n",
    "         [-17.0700, -10.5750]],\n",
    "\n",
    "        [[ 56.5600, -28.7300],\n",
    "         [ 56.5600,  28.7300],\n",
    "         [-56.5600,  28.7300],\n",
    "         [-56.5600, -28.7300]]], dtype=torch.float)\n",
    "polygon2 = torch.tensor([[[ 16.3787, -12.3186],\n",
    "         [ 16.3787,   8.2825],\n",
    "         [ -2.5804,   8.2674],\n",
    "         [  4.4665, -11.5463]],\n",
    "\n",
    "        [[ 58.6684, -25.5243],\n",
    "         [ 58.6684,  17.9563],\n",
    "         [ 11.8985,  17.8795],\n",
    "         [ -3.3420, -22.3114]]], dtype=torch.float)\n",
    "# plt.scatter(polygon1[0, :, 0], polygon1[0, :, 1], color='b')\n",
    "# plt.scatter(polygon2[0, :, 0], polygon2[0, :, 1], color='r')\n",
    "# plt.show()\n",
    "batch_poly_diou_loss(polygon1, polygon2)\n",
    "c_poly_diou_loss(polygon1[0], polygon2[0])"
   ],
   "metadata": {
    "collapsed": false,
    "pycharm": {
     "name": "#%%\n"
    }
   }
  },
  {
   "cell_type": "code",
   "execution_count": null,
   "outputs": [],
   "source": [],
   "metadata": {
    "collapsed": false,
    "pycharm": {
     "name": "#%%\n"
    }
   }
  }
 ],
 "metadata": {
  "kernelspec": {
   "display_name": "Python 3",
   "language": "python",
   "name": "python3"
  },
  "language_info": {
   "codemirror_mode": {
    "name": "ipython",
    "version": 2
   },
   "file_extension": ".py",
   "mimetype": "text/x-python",
   "name": "python",
   "nbconvert_exporter": "python",
   "pygments_lexer": "ipython2",
   "version": "2.7.6"
  }
 },
 "nbformat": 4,
 "nbformat_minor": 0
}