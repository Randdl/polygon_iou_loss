{
 "cells": [
  {
   "cell_type": "code",
   "execution_count": 1,
   "outputs": [],
   "source": [
    "import torch\n",
    "import cv2\n",
    "from fixed_polygon_iou_loss import *\n",
    "from matplotlib import pyplot as plt\n",
    "import numpy as np"
   ],
   "metadata": {
    "collapsed": false,
    "pycharm": {
     "name": "#%%\n"
    }
   }
  },
  {
   "cell_type": "code",
   "execution_count": 3,
   "outputs": [
    {
     "name": "stdout",
     "output_type": "stream",
     "text": [
      "tensor([15602.8906, 15602.8906])\n",
      "tensor([15602.8906, 15602.8906])\n",
      "tensor([0.8116, 0.8116], dtype=torch.float64)\n",
      "tensor(0.8116)\n"
     ]
    }
   ],
   "source": [
    "polygon = torch.tensor([[[124.35, 46.53], [253.35, 21.31], [333.31, 214.3], [134.31, 11.3]], [[124.35, 46.53], [253.35, 21.31], [333.31, 214.3], [134.31, 11.3]]], dtype=torch.float)\n",
    "polygon = batch_clockify(polygon)\n",
    "polygon2 = torch.tensor([[[124.35, 46.53], [253.35, 21.31], [333.31, 214.3], [134.31, 11.3], [134.31, 11.3], [134.31, 11.3]], [[124.35, 46.53], [253.35, 21.31], [333.31, 214.3], [134.31, 11.3], [134.31, 11.3], [134.31, 11.3]]], dtype=torch.float)\n",
    "polygon3 = torch.tensor([[[108.35, 53.53], [203.35, 234.31], [34.31, 24.3], [666.31, 126.3]], [[108.35, 53.53], [203.35, 234.31], [34.31, 24.3], [666.31, 126.3]]], dtype=torch.float)\n",
    "polygon2 = batch_clockify(polygon2)\n",
    "print(batch_poly_area(polygon))\n",
    "print(batch_poly_area(polygon2))\n",
    "print(batch_poly_diou_loss(polygon, polygon3))\n",
    "print(c_poly_diou_loss(polygon[0], polygon3[0]))"
   ],
   "metadata": {
    "collapsed": false,
    "pycharm": {
     "name": "#%%\n"
    }
   }
  },
  {
   "cell_type": "code",
   "execution_count": 2,
   "outputs": [],
   "source": [],
   "metadata": {
    "collapsed": false,
    "pycharm": {
     "name": "#%%\n"
    }
   }
  }
 ],
 "metadata": {
  "kernelspec": {
   "display_name": "Python 3",
   "language": "python",
   "name": "python3"
  },
  "language_info": {
   "codemirror_mode": {
    "name": "ipython",
    "version": 2
   },
   "file_extension": ".py",
   "mimetype": "text/x-python",
   "name": "python",
   "nbconvert_exporter": "python",
   "pygments_lexer": "ipython2",
   "version": "2.7.6"
  }
 },
 "nbformat": 4,
 "nbformat_minor": 0
}